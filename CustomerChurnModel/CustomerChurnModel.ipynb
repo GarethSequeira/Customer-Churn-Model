{
 "cells": [
  {
   "cell_type": "markdown",
   "metadata": {},
   "source": [
    "<img align=\"left\" src=\"https://github.com/GarethSequeira/Customer-Churn-Model/blob/main/CustomerChurnModel/Images/CustomerChurnRect.png?raw=true\" width=\"100%\">"
   ]
  },
  {
   "cell_type": "markdown",
   "metadata": {
    "colab_type": "text",
    "id": "4P1KDT-PKsOy"
   },
   "source": [
    "<br><br>\n",
    "\n",
    "# Customer Churn Model\n",
    "### Classification of Bank Customers based on Previous Banking Activities. <br>Predicting if they will Leave the Bank or Not.\n"
   ]
  },
  {
   "cell_type": "code",
   "execution_count": 1,
   "metadata": {
    "colab": {},
    "colab_type": "code",
    "id": "MPoJdCbeKX7f"
   },
   "outputs": [],
   "source": [
    "# Importing Libraries\n",
    "\n",
    "import numpy as np\n",
    "import pandas as pd\n",
    "import seaborn as sns\n",
    "import keras\n",
    "from keras.models import Sequential\n",
    "from keras.layers import Dense\n",
    "\n",
    "import matplotlib.pyplot as plt\n",
    "%matplotlib inline"
   ]
  },
  {
   "cell_type": "code",
   "execution_count": 2,
   "metadata": {
    "colab": {},
    "colab_type": "code",
    "id": "UJJ6T8LoLHQK"
   },
   "outputs": [],
   "source": [
    "# Loading Dataset\n",
    "\n",
    "df = pd.read_csv('CustomerChurnData.csv')"
   ]
  },
  {
   "cell_type": "markdown",
   "metadata": {
    "colab_type": "text",
    "id": "u7mU2LUTLUj5"
   },
   "source": [
    "<br><br>\n",
    "\n",
    "## Exploratory Data Analysis"
   ]
  },
  {
   "cell_type": "code",
   "execution_count": 3,
   "metadata": {
    "colab": {
     "base_uri": "https://localhost:8080/",
     "height": 34
    },
    "colab_type": "code",
    "id": "jywL9F9_LTjh",
    "outputId": "bdf60c39-6fe0-4d94-f2d7-a50d24c87f6d"
   },
   "outputs": [
    {
     "data": {
      "text/plain": [
       "(10000, 14)"
      ]
     },
     "execution_count": 3,
     "metadata": {},
     "output_type": "execute_result"
    }
   ],
   "source": [
    "# Dataset Rows and Columns\n",
    "\n",
    "df.shape"
   ]
  },
  {
   "cell_type": "code",
   "execution_count": 4,
   "metadata": {
    "colab": {
     "base_uri": "https://localhost:8080/",
     "height": 87
    },
    "colab_type": "code",
    "id": "YN7vU6m-LZoI",
    "outputId": "59ba82d2-ca25-484d-e42b-edad49b1179e"
   },
   "outputs": [
    {
     "data": {
      "text/plain": [
       "Index(['RowNumber', 'CustomerId', 'Surname', 'CreditScore', 'Geography',\n",
       "       'Gender', 'Age', 'Tenure', 'Balance', 'NumOfProducts', 'HasCrCard',\n",
       "       'IsActiveMember', 'EstimatedSalary', 'Exited'],\n",
       "      dtype='object')"
      ]
     },
     "execution_count": 4,
     "metadata": {},
     "output_type": "execute_result"
    }
   ],
   "source": [
    "# Dataset Column Headings\n",
    "\n",
    "df.columns"
   ]
  },
  {
   "cell_type": "code",
   "execution_count": 5,
   "metadata": {
    "colab": {
     "base_uri": "https://localhost:8080/",
     "height": 283
    },
    "colab_type": "code",
    "id": "b_I7URDSLbBJ",
    "outputId": "496af466-e75d-4f8e-8374-abaa71353515"
   },
   "outputs": [
    {
     "data": {
      "text/plain": [
       "RowNumber            int64\n",
       "CustomerId           int64\n",
       "Surname             object\n",
       "CreditScore          int64\n",
       "Geography           object\n",
       "Gender              object\n",
       "Age                  int64\n",
       "Tenure               int64\n",
       "Balance            float64\n",
       "NumOfProducts        int64\n",
       "HasCrCard            int64\n",
       "IsActiveMember       int64\n",
       "EstimatedSalary    float64\n",
       "Exited               int64\n",
       "dtype: object"
      ]
     },
     "execution_count": 5,
     "metadata": {},
     "output_type": "execute_result"
    }
   ],
   "source": [
    "# Dataset Column Datatype\n",
    "\n",
    "df.dtypes"
   ]
  },
  {
   "cell_type": "code",
   "execution_count": 6,
   "metadata": {
    "colab": {
     "base_uri": "https://localhost:8080/",
     "height": 217
    },
    "colab_type": "code",
    "id": "TwYKW4CVLgtJ",
    "outputId": "cda3fae4-8c6c-4aec-e0f3-390da82d65f9"
   },
   "outputs": [
    {
     "data": {
      "text/html": [
       "<div>\n",
       "<style scoped>\n",
       "    .dataframe tbody tr th:only-of-type {\n",
       "        vertical-align: middle;\n",
       "    }\n",
       "\n",
       "    .dataframe tbody tr th {\n",
       "        vertical-align: top;\n",
       "    }\n",
       "\n",
       "    .dataframe thead th {\n",
       "        text-align: right;\n",
       "    }\n",
       "</style>\n",
       "<table border=\"1\" class=\"dataframe\">\n",
       "  <thead>\n",
       "    <tr style=\"text-align: right;\">\n",
       "      <th></th>\n",
       "      <th>RowNumber</th>\n",
       "      <th>CustomerId</th>\n",
       "      <th>Surname</th>\n",
       "      <th>CreditScore</th>\n",
       "      <th>Geography</th>\n",
       "      <th>Gender</th>\n",
       "      <th>Age</th>\n",
       "      <th>Tenure</th>\n",
       "      <th>Balance</th>\n",
       "      <th>NumOfProducts</th>\n",
       "      <th>HasCrCard</th>\n",
       "      <th>IsActiveMember</th>\n",
       "      <th>EstimatedSalary</th>\n",
       "      <th>Exited</th>\n",
       "    </tr>\n",
       "  </thead>\n",
       "  <tbody>\n",
       "    <tr>\n",
       "      <th>0</th>\n",
       "      <td>1</td>\n",
       "      <td>15634602</td>\n",
       "      <td>Hargrave</td>\n",
       "      <td>619</td>\n",
       "      <td>France</td>\n",
       "      <td>Female</td>\n",
       "      <td>42</td>\n",
       "      <td>2</td>\n",
       "      <td>0.00</td>\n",
       "      <td>1</td>\n",
       "      <td>1</td>\n",
       "      <td>1</td>\n",
       "      <td>101348.88</td>\n",
       "      <td>1</td>\n",
       "    </tr>\n",
       "    <tr>\n",
       "      <th>1</th>\n",
       "      <td>2</td>\n",
       "      <td>15647311</td>\n",
       "      <td>Hill</td>\n",
       "      <td>608</td>\n",
       "      <td>Spain</td>\n",
       "      <td>Female</td>\n",
       "      <td>41</td>\n",
       "      <td>1</td>\n",
       "      <td>83807.86</td>\n",
       "      <td>1</td>\n",
       "      <td>0</td>\n",
       "      <td>1</td>\n",
       "      <td>112542.58</td>\n",
       "      <td>0</td>\n",
       "    </tr>\n",
       "    <tr>\n",
       "      <th>2</th>\n",
       "      <td>3</td>\n",
       "      <td>15619304</td>\n",
       "      <td>Onio</td>\n",
       "      <td>502</td>\n",
       "      <td>France</td>\n",
       "      <td>Female</td>\n",
       "      <td>42</td>\n",
       "      <td>8</td>\n",
       "      <td>159660.80</td>\n",
       "      <td>3</td>\n",
       "      <td>1</td>\n",
       "      <td>0</td>\n",
       "      <td>113931.57</td>\n",
       "      <td>1</td>\n",
       "    </tr>\n",
       "    <tr>\n",
       "      <th>3</th>\n",
       "      <td>4</td>\n",
       "      <td>15701354</td>\n",
       "      <td>Boni</td>\n",
       "      <td>699</td>\n",
       "      <td>France</td>\n",
       "      <td>Female</td>\n",
       "      <td>39</td>\n",
       "      <td>1</td>\n",
       "      <td>0.00</td>\n",
       "      <td>2</td>\n",
       "      <td>0</td>\n",
       "      <td>0</td>\n",
       "      <td>93826.63</td>\n",
       "      <td>0</td>\n",
       "    </tr>\n",
       "    <tr>\n",
       "      <th>4</th>\n",
       "      <td>5</td>\n",
       "      <td>15737888</td>\n",
       "      <td>Mitchell</td>\n",
       "      <td>850</td>\n",
       "      <td>Spain</td>\n",
       "      <td>Female</td>\n",
       "      <td>43</td>\n",
       "      <td>2</td>\n",
       "      <td>125510.82</td>\n",
       "      <td>1</td>\n",
       "      <td>1</td>\n",
       "      <td>1</td>\n",
       "      <td>79084.10</td>\n",
       "      <td>0</td>\n",
       "    </tr>\n",
       "  </tbody>\n",
       "</table>\n",
       "</div>"
      ],
      "text/plain": [
       "   RowNumber  CustomerId   Surname  CreditScore Geography  Gender  Age  \\\n",
       "0          1    15634602  Hargrave          619    France  Female   42   \n",
       "1          2    15647311      Hill          608     Spain  Female   41   \n",
       "2          3    15619304      Onio          502    France  Female   42   \n",
       "3          4    15701354      Boni          699    France  Female   39   \n",
       "4          5    15737888  Mitchell          850     Spain  Female   43   \n",
       "\n",
       "   Tenure    Balance  NumOfProducts  HasCrCard  IsActiveMember  \\\n",
       "0       2       0.00              1          1               1   \n",
       "1       1   83807.86              1          0               1   \n",
       "2       8  159660.80              3          1               0   \n",
       "3       1       0.00              2          0               0   \n",
       "4       2  125510.82              1          1               1   \n",
       "\n",
       "   EstimatedSalary  Exited  \n",
       "0        101348.88       1  \n",
       "1        112542.58       0  \n",
       "2        113931.57       1  \n",
       "3         93826.63       0  \n",
       "4         79084.10       0  "
      ]
     },
     "execution_count": 6,
     "metadata": {},
     "output_type": "execute_result"
    }
   ],
   "source": [
    "# First 5 Records of the Dataset\n",
    "\n",
    "df.head()"
   ]
  },
  {
   "cell_type": "code",
   "execution_count": 7,
   "metadata": {
    "colab": {
     "base_uri": "https://localhost:8080/",
     "height": 217
    },
    "colab_type": "code",
    "id": "QPYQ66BTMjDj",
    "outputId": "256cb873-6875-437d-d273-47ead2a3f2b3"
   },
   "outputs": [
    {
     "data": {
      "text/html": [
       "<div>\n",
       "<style scoped>\n",
       "    .dataframe tbody tr th:only-of-type {\n",
       "        vertical-align: middle;\n",
       "    }\n",
       "\n",
       "    .dataframe tbody tr th {\n",
       "        vertical-align: top;\n",
       "    }\n",
       "\n",
       "    .dataframe thead th {\n",
       "        text-align: right;\n",
       "    }\n",
       "</style>\n",
       "<table border=\"1\" class=\"dataframe\">\n",
       "  <thead>\n",
       "    <tr style=\"text-align: right;\">\n",
       "      <th></th>\n",
       "      <th>RowNumber</th>\n",
       "      <th>CustomerId</th>\n",
       "      <th>Surname</th>\n",
       "      <th>CreditScore</th>\n",
       "      <th>Geography</th>\n",
       "      <th>Gender</th>\n",
       "      <th>Age</th>\n",
       "      <th>Tenure</th>\n",
       "      <th>Balance</th>\n",
       "      <th>NumOfProducts</th>\n",
       "      <th>HasCrCard</th>\n",
       "      <th>IsActiveMember</th>\n",
       "      <th>EstimatedSalary</th>\n",
       "      <th>Exited</th>\n",
       "    </tr>\n",
       "  </thead>\n",
       "  <tbody>\n",
       "    <tr>\n",
       "      <th>9995</th>\n",
       "      <td>9996</td>\n",
       "      <td>15606229</td>\n",
       "      <td>Obijiaku</td>\n",
       "      <td>771</td>\n",
       "      <td>France</td>\n",
       "      <td>Male</td>\n",
       "      <td>39</td>\n",
       "      <td>5</td>\n",
       "      <td>0.00</td>\n",
       "      <td>2</td>\n",
       "      <td>1</td>\n",
       "      <td>0</td>\n",
       "      <td>96270.64</td>\n",
       "      <td>0</td>\n",
       "    </tr>\n",
       "    <tr>\n",
       "      <th>9996</th>\n",
       "      <td>9997</td>\n",
       "      <td>15569892</td>\n",
       "      <td>Johnstone</td>\n",
       "      <td>516</td>\n",
       "      <td>France</td>\n",
       "      <td>Male</td>\n",
       "      <td>35</td>\n",
       "      <td>10</td>\n",
       "      <td>57369.61</td>\n",
       "      <td>1</td>\n",
       "      <td>1</td>\n",
       "      <td>1</td>\n",
       "      <td>101699.77</td>\n",
       "      <td>0</td>\n",
       "    </tr>\n",
       "    <tr>\n",
       "      <th>9997</th>\n",
       "      <td>9998</td>\n",
       "      <td>15584532</td>\n",
       "      <td>Liu</td>\n",
       "      <td>709</td>\n",
       "      <td>France</td>\n",
       "      <td>Female</td>\n",
       "      <td>36</td>\n",
       "      <td>7</td>\n",
       "      <td>0.00</td>\n",
       "      <td>1</td>\n",
       "      <td>0</td>\n",
       "      <td>1</td>\n",
       "      <td>42085.58</td>\n",
       "      <td>1</td>\n",
       "    </tr>\n",
       "    <tr>\n",
       "      <th>9998</th>\n",
       "      <td>9999</td>\n",
       "      <td>15682355</td>\n",
       "      <td>Sabbatini</td>\n",
       "      <td>772</td>\n",
       "      <td>Germany</td>\n",
       "      <td>Male</td>\n",
       "      <td>42</td>\n",
       "      <td>3</td>\n",
       "      <td>75075.31</td>\n",
       "      <td>2</td>\n",
       "      <td>1</td>\n",
       "      <td>0</td>\n",
       "      <td>92888.52</td>\n",
       "      <td>1</td>\n",
       "    </tr>\n",
       "    <tr>\n",
       "      <th>9999</th>\n",
       "      <td>10000</td>\n",
       "      <td>15628319</td>\n",
       "      <td>Walker</td>\n",
       "      <td>792</td>\n",
       "      <td>France</td>\n",
       "      <td>Female</td>\n",
       "      <td>28</td>\n",
       "      <td>4</td>\n",
       "      <td>130142.79</td>\n",
       "      <td>1</td>\n",
       "      <td>1</td>\n",
       "      <td>0</td>\n",
       "      <td>38190.78</td>\n",
       "      <td>0</td>\n",
       "    </tr>\n",
       "  </tbody>\n",
       "</table>\n",
       "</div>"
      ],
      "text/plain": [
       "      RowNumber  CustomerId    Surname  CreditScore Geography  Gender  Age  \\\n",
       "9995       9996    15606229   Obijiaku          771    France    Male   39   \n",
       "9996       9997    15569892  Johnstone          516    France    Male   35   \n",
       "9997       9998    15584532        Liu          709    France  Female   36   \n",
       "9998       9999    15682355  Sabbatini          772   Germany    Male   42   \n",
       "9999      10000    15628319     Walker          792    France  Female   28   \n",
       "\n",
       "      Tenure    Balance  NumOfProducts  HasCrCard  IsActiveMember  \\\n",
       "9995       5       0.00              2          1               0   \n",
       "9996      10   57369.61              1          1               1   \n",
       "9997       7       0.00              1          0               1   \n",
       "9998       3   75075.31              2          1               0   \n",
       "9999       4  130142.79              1          1               0   \n",
       "\n",
       "      EstimatedSalary  Exited  \n",
       "9995         96270.64       0  \n",
       "9996        101699.77       0  \n",
       "9997         42085.58       1  \n",
       "9998         92888.52       1  \n",
       "9999         38190.78       0  "
      ]
     },
     "execution_count": 7,
     "metadata": {},
     "output_type": "execute_result"
    }
   ],
   "source": [
    "# Last 5 Records of the Dataset\n",
    "\n",
    "df.tail()"
   ]
  },
  {
   "cell_type": "markdown",
   "metadata": {},
   "source": [
    "<br><br>\n",
    "\n",
    "## Data Visualization"
   ]
  },
  {
   "cell_type": "code",
   "execution_count": 8,
   "metadata": {
    "colab": {
     "base_uri": "https://localhost:8080/",
     "height": 513
    },
    "colab_type": "code",
    "id": "vtDebZ5FMyZQ",
    "outputId": "57ec761a-3b8d-41e9-d04c-a6f7b0d09261"
   },
   "outputs": [
    {
     "data": {
      "image/png": "[encoded data removed]",
      "text/plain": [
       "<Figure size 576x576 with 1 Axes>"
      ]
     },
     "metadata": {
      "needs_background": "light"
     },
     "output_type": "display_data"
    }
   ],
   "source": [
    "# Visualizing count of Exited Customers in the Dataset\n",
    "\n",
    "plt.figure(figsize=(8,8))\n",
    "sns.countplot(x='Exited', data=df, palette=(\"blue\", \"red\"))\n",
    "plt.xlabel('0: Customers still with the Bank       1: Customers that Left the Bank')\n",
    "plt.ylabel('Count')\n",
    "plt.title('Customer Churn Visualization for Bank')\n",
    "plt.show()"
   ]
  },
  {
   "cell_type": "code",
   "execution_count": 9,
   "metadata": {
    "colab": {
     "base_uri": "https://localhost:8080/",
     "height": 283
    },
    "colab_type": "code",
    "id": "a0yxDekMNaic",
    "outputId": "7b8761a7-4a4c-44eb-ca43-7d61c4b5bfe5"
   },
   "outputs": [
    {
     "data": {
      "text/plain": [
       "RowNumber          False\n",
       "CustomerId         False\n",
       "Surname            False\n",
       "CreditScore        False\n",
       "Geography          False\n",
       "Gender             False\n",
       "Age                False\n",
       "Tenure             False\n",
       "Balance            False\n",
       "NumOfProducts      False\n",
       "HasCrCard          False\n",
       "IsActiveMember     False\n",
       "EstimatedSalary    False\n",
       "Exited             False\n",
       "dtype: bool"
      ]
     },
     "execution_count": 9,
     "metadata": {},
     "output_type": "execute_result"
    }
   ],
   "source": [
    "df.isna().any()"
   ]
  },
  {
   "cell_type": "code",
   "execution_count": 10,
   "metadata": {
    "colab": {
     "base_uri": "https://localhost:8080/",
     "height": 87
    },
    "colab_type": "code",
    "id": "v0oirsE9OlOX",
    "outputId": "13b14cca-3c6a-4d9d-ecd4-c548017aab39"
   },
   "outputs": [
    {
     "data": {
      "text/plain": [
       "Index(['CreditScore', 'Geography', 'Gender', 'Age', 'Tenure', 'Balance',\n",
       "       'NumOfProducts', 'HasCrCard', 'IsActiveMember', 'EstimatedSalary',\n",
       "       'Exited'],\n",
       "      dtype='object')"
      ]
     },
     "execution_count": 10,
     "metadata": {},
     "output_type": "execute_result"
    }
   ],
   "source": [
    "df.drop(['RowNumber','CustomerId','Surname'], axis=1, inplace=True)\n",
    "df.columns"
   ]
  },
  {
   "cell_type": "markdown",
   "metadata": {
    "colab_type": "text",
    "id": "ntTXOWIqOUBp"
   },
   "source": [
    "<br><br>\n",
    "\n",
    "## Feature Engineering\n",
    "\n",
    "Converting categorical features into numerical features using get_dummies()"
   ]
  },
  {
   "cell_type": "code",
   "execution_count": 11,
   "metadata": {
    "colab": {},
    "colab_type": "code",
    "id": "sNm7RasGN5AY"
   },
   "outputs": [],
   "source": [
    "# Converting Geography and Gender column\n",
    "\n",
    "geography = pd.get_dummies(df['Geography'], drop_first=True)\n",
    "gender = pd.get_dummies(df['Gender'], drop_first=True)"
   ]
  },
  {
   "cell_type": "code",
   "execution_count": 12,
   "metadata": {
    "colab": {
     "base_uri": "https://localhost:8080/",
     "height": 87
    },
    "colab_type": "code",
    "id": "dFFfzI6GPZU6",
    "outputId": "4384eedc-bf56-4c68-aa1b-3f8bac1f9866"
   },
   "outputs": [
    {
     "data": {
      "text/plain": [
       "Index(['CreditScore', 'Geography', 'Gender', 'Age', 'Tenure', 'Balance',\n",
       "       'NumOfProducts', 'HasCrCard', 'IsActiveMember', 'EstimatedSalary',\n",
       "       'Exited', 'Germany', 'Spain', 'Male'],\n",
       "      dtype='object')"
      ]
     },
     "execution_count": 12,
     "metadata": {},
     "output_type": "execute_result"
    }
   ],
   "source": [
    "# Appending columns to Original Dataframe\n",
    "\n",
    "df = pd.concat([df, geography, gender], axis=1)\n",
    "df.columns"
   ]
  },
  {
   "cell_type": "code",
   "execution_count": 13,
   "metadata": {
    "colab": {},
    "colab_type": "code",
    "id": "ipWzcjHDSuPK"
   },
   "outputs": [],
   "source": [
    "df.drop(['Geography', 'Gender'], axis=1, inplace=True)"
   ]
  },
  {
   "cell_type": "markdown",
   "metadata": {
    "colab_type": "text",
    "id": "Wjh7e5WDP3Kp"
   },
   "source": [
    "<br><br>\n",
    "\n",
    "## Data Preprocessing\n",
    "\n",
    "• Split dataset into independent features(X) and labels(Y).\n",
    "\n",
    "• Split dataset further into train and test sets.\n",
    "\n",
    "• Apply feature scaling to train and test sets of independent features."
   ]
  },
  {
   "cell_type": "code",
   "execution_count": 14,
   "metadata": {
    "colab": {},
    "colab_type": "code",
    "id": "00u9Ikg7Pmvp"
   },
   "outputs": [],
   "source": [
    "X = df.drop('Exited', axis=1)\n",
    "y = df['Exited']"
   ]
  },
  {
   "cell_type": "code",
   "execution_count": 15,
   "metadata": {
    "colab": {
     "base_uri": "https://localhost:8080/",
     "height": 34
    },
    "colab_type": "code",
    "id": "nH92-yJLQzsR",
    "outputId": "c1a679b8-e033-4806-d827-6fd4db22cb27"
   },
   "outputs": [
    {
     "name": "stdout",
     "output_type": "stream",
     "text": [
      "X_train size: (8000, 11), X_test size: (2000, 11)\n"
     ]
    }
   ],
   "source": [
    "# Splitting the dataset into train and test sets.\n",
    "\n",
    "from sklearn.model_selection import train_test_split\n",
    "X_train, X_test, y_train, y_test = train_test_split(X, y, test_size=0.20, random_state=0)\n",
    "print('X_train size: {}, X_test size: {}'.format(X_train.shape, X_test.shape))"
   ]
  },
  {
   "cell_type": "code",
   "execution_count": 16,
   "metadata": {
    "colab": {},
    "colab_type": "code",
    "id": "-6V7kO8bRL8Z"
   },
   "outputs": [],
   "source": [
    "# Feature Scaling\n",
    "\n",
    "from sklearn.preprocessing import StandardScaler\n",
    "sc = StandardScaler()\n",
    "X_train = sc.fit_transform(X_train)\n",
    "X_test = sc.transform(X_test)"
   ]
  },
  {
   "cell_type": "markdown",
   "metadata": {
    "colab_type": "text",
    "id": "DipuYlTfTPlQ"
   },
   "source": [
    "<br><br>\n",
    "\n",
    "## Building Artificial Neural Network"
   ]
  },
  {
   "cell_type": "code",
   "execution_count": 17,
   "metadata": {
    "colab": {},
    "colab_type": "code",
    "id": "JJLU_q9STmnX"
   },
   "outputs": [],
   "source": [
    "# Initialising the ANN\n",
    "\n",
    "classifier = Sequential()"
   ]
  },
  {
   "cell_type": "code",
   "execution_count": 18,
   "metadata": {
    "colab": {},
    "colab_type": "code",
    "id": "rbomJoOQTq_p"
   },
   "outputs": [],
   "source": [
    "# Adding Input layer\n",
    "# Adding First Hidden Layer\n",
    "\n",
    "classifier.add(Dense(units=6, kernel_initializer='he_uniform', activation='relu', input_dim=11))"
   ]
  },
  {
   "cell_type": "code",
   "execution_count": 19,
   "metadata": {
    "colab": {},
    "colab_type": "code",
    "id": "u6DzHseSU9uw"
   },
   "outputs": [],
   "source": [
    "# Adding Second Hidden Layer\n",
    "\n",
    "classifier.add(Dense(units=6, kernel_initializer='he_uniform', activation='relu'))"
   ]
  },
  {
   "cell_type": "code",
   "execution_count": 20,
   "metadata": {
    "colab": {},
    "colab_type": "code",
    "id": "CbpD-9obVj1Z"
   },
   "outputs": [],
   "source": [
    "# Output Layer\n",
    "\n",
    "classifier.add(Dense(units=1, kernel_initializer='glorot_uniform', activation='sigmoid'))"
   ]
  },
  {
   "cell_type": "code",
   "execution_count": 21,
   "metadata": {
    "colab": {},
    "colab_type": "code",
    "id": "agT54UANV8AA"
   },
   "outputs": [],
   "source": [
    "# Compiling ANN\n",
    "\n",
    "classifier.compile(optimizer='adam', loss='binary_crossentropy', metrics=['accuracy'])"
   ]
  },
  {
   "cell_type": "code",
   "execution_count": 22,
   "metadata": {
    "colab": {
     "base_uri": "https://localhost:8080/",
     "height": 1000
    },
    "colab_type": "code",
    "id": "W9EpZTyLWRMY",
    "outputId": "34df3192-c088-41d7-ac5d-ebd4c810b9fa",
    "scrolled": true
   },
   "outputs": [
    {
     "name": "stdout",
     "output_type": "stream",
     "text": [
      "Epoch 1/100\n",
      "536/536 [==============================] - 7s 8ms/step - loss: 0.6334 - accuracy: 0.6739 - val_loss: 0.4765 - val_accuracy: 0.7952\n",
      "Epoch 2/100\n",
      "536/536 [==============================] - 2s 3ms/step - loss: 0.4708 - accuracy: 0.8003 - val_loss: 0.4534 - val_accuracy: 0.8005\n",
      "Epoch 3/100\n",
      "536/536 [==============================] - 2s 3ms/step - loss: 0.4473 - accuracy: 0.7994 - val_loss: 0.4439 - val_accuracy: 0.8012\n",
      "Epoch 4/100\n",
      "536/536 [==============================] - 2s 3ms/step - loss: 0.4424 - accuracy: 0.8037 - val_loss: 0.4382 - val_accuracy: 0.8035\n",
      "Epoch 5/100\n",
      "536/536 [==============================] - 2s 3ms/step - loss: 0.4285 - accuracy: 0.8107 - val_loss: 0.4325 - val_accuracy: 0.8058\n",
      "Epoch 6/100\n",
      "536/536 [==============================] - 2s 3ms/step - loss: 0.4322 - accuracy: 0.8045 - val_loss: 0.4283 - val_accuracy: 0.8118\n",
      "Epoch 7/100\n",
      "536/536 [==============================] - 2s 3ms/step - loss: 0.4373 - accuracy: 0.8056 - val_loss: 0.4234 - val_accuracy: 0.8145\n",
      "Epoch 8/100\n",
      "536/536 [==============================] - 2s 4ms/step - loss: 0.4127 - accuracy: 0.8154 - val_loss: 0.4158 - val_accuracy: 0.8152\n",
      "Epoch 9/100\n",
      "536/536 [==============================] - 2s 3ms/step - loss: 0.3963 - accuracy: 0.8275 - val_loss: 0.4066 - val_accuracy: 0.8194\n",
      "Epoch 10/100\n",
      "536/536 [==============================] - 2s 4ms/step - loss: 0.3997 - accuracy: 0.8326 - val_loss: 0.3964 - val_accuracy: 0.8254\n",
      "Epoch 11/100\n",
      "536/536 [==============================] - 2s 3ms/step - loss: 0.3748 - accuracy: 0.8395 - val_loss: 0.3870 - val_accuracy: 0.8307\n",
      "Epoch 12/100\n",
      "536/536 [==============================] - 2s 4ms/step - loss: 0.3751 - accuracy: 0.8436 - val_loss: 0.3792 - val_accuracy: 0.8379\n",
      "Epoch 13/100\n",
      "536/536 [==============================] - 2s 4ms/step - loss: 0.3530 - accuracy: 0.8533 - val_loss: 0.3741 - val_accuracy: 0.8429\n",
      "Epoch 14/100\n",
      "536/536 [==============================] - 2s 4ms/step - loss: 0.3544 - accuracy: 0.8513 - val_loss: 0.3724 - val_accuracy: 0.8508\n",
      "Epoch 15/100\n",
      "536/536 [==============================] - 2s 3ms/step - loss: 0.3585 - accuracy: 0.8486 - val_loss: 0.3677 - val_accuracy: 0.8504\n",
      "Epoch 16/100\n",
      "536/536 [==============================] - 2s 4ms/step - loss: 0.3502 - accuracy: 0.8532 - val_loss: 0.3653 - val_accuracy: 0.8519\n",
      "Epoch 17/100\n",
      "536/536 [==============================] - 2s 3ms/step - loss: 0.3327 - accuracy: 0.8628 - val_loss: 0.3650 - val_accuracy: 0.8497\n",
      "Epoch 18/100\n",
      "536/536 [==============================] - 2s 3ms/step - loss: 0.3459 - accuracy: 0.8588 - val_loss: 0.3625 - val_accuracy: 0.8516\n",
      "Epoch 19/100\n",
      "536/536 [==============================] - 2s 4ms/step - loss: 0.3507 - accuracy: 0.8546 - val_loss: 0.3620 - val_accuracy: 0.8508\n",
      "Epoch 20/100\n",
      "536/536 [==============================] - 2s 4ms/step - loss: 0.3405 - accuracy: 0.8587 - val_loss: 0.3621 - val_accuracy: 0.8516\n",
      "Epoch 21/100\n",
      "536/536 [==============================] - 2s 4ms/step - loss: 0.3383 - accuracy: 0.8632 - val_loss: 0.3609 - val_accuracy: 0.8542\n",
      "Epoch 22/100\n",
      "536/536 [==============================] - 2s 4ms/step - loss: 0.3453 - accuracy: 0.8642 - val_loss: 0.3620 - val_accuracy: 0.8508\n",
      "Epoch 23/100\n",
      "536/536 [==============================] - 2s 4ms/step - loss: 0.3373 - accuracy: 0.8637 - val_loss: 0.3616 - val_accuracy: 0.8512\n",
      "Epoch 24/100\n",
      "536/536 [==============================] - 2s 4ms/step - loss: 0.3365 - accuracy: 0.8639 - val_loss: 0.3600 - val_accuracy: 0.8527\n",
      "Epoch 25/100\n",
      "536/536 [==============================] - 2s 4ms/step - loss: 0.3376 - accuracy: 0.8647 - val_loss: 0.3603 - val_accuracy: 0.8504\n",
      "Epoch 26/100\n",
      "536/536 [==============================] - 2s 4ms/step - loss: 0.3367 - accuracy: 0.8618 - val_loss: 0.3598 - val_accuracy: 0.8501\n",
      "Epoch 27/100\n",
      "536/536 [==============================] - 2s 3ms/step - loss: 0.3279 - accuracy: 0.8610 - val_loss: 0.3592 - val_accuracy: 0.8519\n",
      "Epoch 28/100\n",
      "536/536 [==============================] - 2s 3ms/step - loss: 0.3097 - accuracy: 0.8709 - val_loss: 0.3591 - val_accuracy: 0.8508\n",
      "Epoch 29/100\n",
      "536/536 [==============================] - 2s 3ms/step - loss: 0.3384 - accuracy: 0.8543 - val_loss: 0.3583 - val_accuracy: 0.8523\n",
      "Epoch 30/100\n",
      "536/536 [==============================] - 2s 3ms/step - loss: 0.3284 - accuracy: 0.8627 - val_loss: 0.3571 - val_accuracy: 0.8516\n",
      "Epoch 31/100\n",
      "536/536 [==============================] - 2s 3ms/step - loss: 0.3283 - accuracy: 0.8689 - val_loss: 0.3587 - val_accuracy: 0.8523\n",
      "Epoch 32/100\n",
      "536/536 [==============================] - 2s 3ms/step - loss: 0.3314 - accuracy: 0.8621 - val_loss: 0.3573 - val_accuracy: 0.8542\n",
      "Epoch 33/100\n",
      "536/536 [==============================] - 2s 3ms/step - loss: 0.3334 - accuracy: 0.8682 - val_loss: 0.3569 - val_accuracy: 0.8516\n",
      "Epoch 34/100\n",
      "536/536 [==============================] - 2s 3ms/step - loss: 0.3381 - accuracy: 0.8620 - val_loss: 0.3562 - val_accuracy: 0.8519\n",
      "Epoch 35/100\n",
      "536/536 [==============================] - 2s 3ms/step - loss: 0.3189 - accuracy: 0.8690 - val_loss: 0.3566 - val_accuracy: 0.8519\n",
      "Epoch 36/100\n",
      "536/536 [==============================] - 2s 3ms/step - loss: 0.3143 - accuracy: 0.8728 - val_loss: 0.3568 - val_accuracy: 0.8531\n",
      "Epoch 37/100\n",
      "536/536 [==============================] - 2s 3ms/step - loss: 0.3245 - accuracy: 0.8688 - val_loss: 0.3564 - val_accuracy: 0.8523\n",
      "Epoch 38/100\n",
      "536/536 [==============================] - 2s 3ms/step - loss: 0.3120 - accuracy: 0.8702 - val_loss: 0.3552 - val_accuracy: 0.8546\n",
      "Epoch 39/100\n",
      "536/536 [==============================] - 2s 3ms/step - loss: 0.3302 - accuracy: 0.8621 - val_loss: 0.3557 - val_accuracy: 0.8527\n",
      "Epoch 40/100\n",
      "536/536 [==============================] - 2s 3ms/step - loss: 0.3232 - accuracy: 0.8687 - val_loss: 0.3559 - val_accuracy: 0.8550\n",
      "Epoch 41/100\n",
      "536/536 [==============================] - 2s 3ms/step - loss: 0.3168 - accuracy: 0.8664 - val_loss: 0.3561 - val_accuracy: 0.8546\n",
      "Epoch 42/100\n",
      "536/536 [==============================] - 2s 3ms/step - loss: 0.3430 - accuracy: 0.8528 - val_loss: 0.3554 - val_accuracy: 0.8569\n",
      "Epoch 43/100\n",
      "536/536 [==============================] - 2s 3ms/step - loss: 0.3144 - accuracy: 0.8737 - val_loss: 0.3574 - val_accuracy: 0.8542\n",
      "Epoch 44/100\n",
      "536/536 [==============================] - 2s 3ms/step - loss: 0.3231 - accuracy: 0.8681 - val_loss: 0.3562 - val_accuracy: 0.8561\n",
      "Epoch 45/100\n",
      "536/536 [==============================] - 2s 3ms/step - loss: 0.3442 - accuracy: 0.8625 - val_loss: 0.3597 - val_accuracy: 0.8531\n",
      "Epoch 46/100\n",
      "536/536 [==============================] - 2s 3ms/step - loss: 0.3237 - accuracy: 0.8656 - val_loss: 0.3560 - val_accuracy: 0.8535\n",
      "Epoch 47/100\n",
      "536/536 [==============================] - 2s 3ms/step - loss: 0.3303 - accuracy: 0.8655 - val_loss: 0.3576 - val_accuracy: 0.8538\n",
      "Epoch 48/100\n",
      "536/536 [==============================] - 2s 3ms/step - loss: 0.3178 - accuracy: 0.8695 - val_loss: 0.3574 - val_accuracy: 0.8531\n",
      "Epoch 49/100\n",
      "536/536 [==============================] - 2s 3ms/step - loss: 0.3163 - accuracy: 0.8684 - val_loss: 0.3576 - val_accuracy: 0.8542\n",
      "Epoch 50/100\n",
      "536/536 [==============================] - 2s 3ms/step - loss: 0.3346 - accuracy: 0.8621 - val_loss: 0.3563 - val_accuracy: 0.8531\n",
      "Epoch 51/100\n",
      "536/536 [==============================] - 2s 3ms/step - loss: 0.3309 - accuracy: 0.8625 - val_loss: 0.3574 - val_accuracy: 0.8557\n",
      "Epoch 52/100\n",
      "536/536 [==============================] - 2s 3ms/step - loss: 0.3285 - accuracy: 0.8666 - val_loss: 0.3561 - val_accuracy: 0.8535\n",
      "Epoch 53/100\n",
      "536/536 [==============================] - 2s 3ms/step - loss: 0.3266 - accuracy: 0.8673 - val_loss: 0.3570 - val_accuracy: 0.8535\n",
      "Epoch 54/100\n",
      "536/536 [==============================] - 2s 3ms/step - loss: 0.3390 - accuracy: 0.8546 - val_loss: 0.3563 - val_accuracy: 0.8550\n",
      "Epoch 55/100\n",
      "536/536 [==============================] - 2s 3ms/step - loss: 0.3327 - accuracy: 0.8626 - val_loss: 0.3561 - val_accuracy: 0.8550\n",
      "Epoch 56/100\n",
      "536/536 [==============================] - 2s 3ms/step - loss: 0.3341 - accuracy: 0.8567 - val_loss: 0.3573 - val_accuracy: 0.8538\n",
      "Epoch 57/100\n",
      "536/536 [==============================] - 2s 3ms/step - loss: 0.3327 - accuracy: 0.8621 - val_loss: 0.3567 - val_accuracy: 0.8546\n"
     ]
    },
    {
     "name": "stdout",
     "output_type": "stream",
     "text": [
      "Epoch 58/100\n",
      "536/536 [==============================] - 2s 3ms/step - loss: 0.3201 - accuracy: 0.8650 - val_loss: 0.3559 - val_accuracy: 0.8561\n",
      "Epoch 59/100\n",
      "536/536 [==============================] - 2s 3ms/step - loss: 0.3312 - accuracy: 0.8649 - val_loss: 0.3572 - val_accuracy: 0.8546\n",
      "Epoch 60/100\n",
      "536/536 [==============================] - 2s 3ms/step - loss: 0.3310 - accuracy: 0.8579 - val_loss: 0.3573 - val_accuracy: 0.8535\n",
      "Epoch 61/100\n",
      "536/536 [==============================] - 2s 3ms/step - loss: 0.3313 - accuracy: 0.8599 - val_loss: 0.3576 - val_accuracy: 0.8557\n",
      "Epoch 62/100\n",
      "536/536 [==============================] - 2s 3ms/step - loss: 0.3287 - accuracy: 0.8609 - val_loss: 0.3557 - val_accuracy: 0.8561\n",
      "Epoch 63/100\n",
      "536/536 [==============================] - 2s 3ms/step - loss: 0.3358 - accuracy: 0.8639 - val_loss: 0.3572 - val_accuracy: 0.8535\n",
      "Epoch 64/100\n",
      "536/536 [==============================] - 2s 3ms/step - loss: 0.3212 - accuracy: 0.8726 - val_loss: 0.3567 - val_accuracy: 0.8561\n",
      "Epoch 65/100\n",
      "536/536 [==============================] - 2s 3ms/step - loss: 0.3422 - accuracy: 0.8561 - val_loss: 0.3573 - val_accuracy: 0.8535\n",
      "Epoch 66/100\n",
      "536/536 [==============================] - 2s 3ms/step - loss: 0.3246 - accuracy: 0.8672 - val_loss: 0.3569 - val_accuracy: 0.8557\n",
      "Epoch 67/100\n",
      "536/536 [==============================] - 2s 3ms/step - loss: 0.3259 - accuracy: 0.8662 - val_loss: 0.3567 - val_accuracy: 0.8550\n",
      "Epoch 68/100\n",
      "536/536 [==============================] - 2s 3ms/step - loss: 0.3223 - accuracy: 0.8717 - val_loss: 0.3572 - val_accuracy: 0.8565\n",
      "Epoch 69/100\n",
      "536/536 [==============================] - 2s 3ms/step - loss: 0.3241 - accuracy: 0.8630 - val_loss: 0.3581 - val_accuracy: 0.8531\n",
      "Epoch 70/100\n",
      "536/536 [==============================] - 2s 3ms/step - loss: 0.3154 - accuracy: 0.8707 - val_loss: 0.3566 - val_accuracy: 0.8538\n",
      "Epoch 71/100\n",
      "536/536 [==============================] - 2s 3ms/step - loss: 0.3294 - accuracy: 0.8650 - val_loss: 0.3583 - val_accuracy: 0.8546\n",
      "Epoch 72/100\n",
      "536/536 [==============================] - 2s 3ms/step - loss: 0.3331 - accuracy: 0.8582 - val_loss: 0.3578 - val_accuracy: 0.8538\n",
      "Epoch 73/100\n",
      "536/536 [==============================] - 2s 3ms/step - loss: 0.3235 - accuracy: 0.8635 - val_loss: 0.3563 - val_accuracy: 0.8546\n",
      "Epoch 74/100\n",
      "536/536 [==============================] - 2s 3ms/step - loss: 0.3219 - accuracy: 0.8675 - val_loss: 0.3574 - val_accuracy: 0.8550\n",
      "Epoch 75/100\n",
      "536/536 [==============================] - 2s 3ms/step - loss: 0.3278 - accuracy: 0.8652 - val_loss: 0.3571 - val_accuracy: 0.8527\n",
      "Epoch 76/100\n",
      "536/536 [==============================] - 2s 3ms/step - loss: 0.3346 - accuracy: 0.8636 - val_loss: 0.3572 - val_accuracy: 0.8538\n",
      "Epoch 77/100\n",
      "536/536 [==============================] - 2s 3ms/step - loss: 0.3178 - accuracy: 0.8694 - val_loss: 0.3570 - val_accuracy: 0.8527\n",
      "Epoch 78/100\n",
      "536/536 [==============================] - 2s 3ms/step - loss: 0.3196 - accuracy: 0.8700 - val_loss: 0.3570 - val_accuracy: 0.8531\n",
      "Epoch 79/100\n",
      "536/536 [==============================] - 2s 3ms/step - loss: 0.3244 - accuracy: 0.8662 - val_loss: 0.3568 - val_accuracy: 0.8535\n",
      "Epoch 80/100\n",
      "536/536 [==============================] - 2s 3ms/step - loss: 0.3242 - accuracy: 0.8674 - val_loss: 0.3582 - val_accuracy: 0.8550\n",
      "Epoch 81/100\n",
      "536/536 [==============================] - 2s 3ms/step - loss: 0.3275 - accuracy: 0.8657 - val_loss: 0.3563 - val_accuracy: 0.8550\n",
      "Epoch 82/100\n",
      "536/536 [==============================] - 2s 3ms/step - loss: 0.3313 - accuracy: 0.8657 - val_loss: 0.3573 - val_accuracy: 0.8535\n",
      "Epoch 83/100\n",
      "536/536 [==============================] - 2s 3ms/step - loss: 0.3324 - accuracy: 0.8637 - val_loss: 0.3572 - val_accuracy: 0.8557\n",
      "Epoch 84/100\n",
      "536/536 [==============================] - 2s 3ms/step - loss: 0.3261 - accuracy: 0.8648 - val_loss: 0.3572 - val_accuracy: 0.8546\n",
      "Epoch 85/100\n",
      "536/536 [==============================] - 2s 3ms/step - loss: 0.3221 - accuracy: 0.8686 - val_loss: 0.3570 - val_accuracy: 0.8538\n",
      "Epoch 86/100\n",
      "536/536 [==============================] - 2s 3ms/step - loss: 0.3245 - accuracy: 0.8616 - val_loss: 0.3573 - val_accuracy: 0.8546\n",
      "Epoch 87/100\n",
      "536/536 [==============================] - 2s 3ms/step - loss: 0.3319 - accuracy: 0.8685 - val_loss: 0.3609 - val_accuracy: 0.8535\n",
      "Epoch 88/100\n",
      "536/536 [==============================] - 2s 3ms/step - loss: 0.3375 - accuracy: 0.8544 - val_loss: 0.3592 - val_accuracy: 0.8535\n",
      "Epoch 89/100\n",
      "536/536 [==============================] - 2s 3ms/step - loss: 0.3240 - accuracy: 0.8658 - val_loss: 0.3580 - val_accuracy: 0.8561\n",
      "Epoch 90/100\n",
      "536/536 [==============================] - 2s 3ms/step - loss: 0.3352 - accuracy: 0.8598 - val_loss: 0.3585 - val_accuracy: 0.8550\n",
      "Epoch 91/100\n",
      "536/536 [==============================] - 2s 3ms/step - loss: 0.3299 - accuracy: 0.8642 - val_loss: 0.3621 - val_accuracy: 0.8554\n",
      "Epoch 92/100\n",
      "536/536 [==============================] - 2s 3ms/step - loss: 0.3158 - accuracy: 0.8732 - val_loss: 0.3570 - val_accuracy: 0.8554\n",
      "Epoch 93/100\n",
      "536/536 [==============================] - 2s 3ms/step - loss: 0.3328 - accuracy: 0.8660 - val_loss: 0.3593 - val_accuracy: 0.8527\n",
      "Epoch 94/100\n",
      "536/536 [==============================] - 2s 3ms/step - loss: 0.3084 - accuracy: 0.8734 - val_loss: 0.3595 - val_accuracy: 0.8542\n",
      "Epoch 95/100\n",
      "536/536 [==============================] - 2s 3ms/step - loss: 0.3173 - accuracy: 0.8674 - val_loss: 0.3593 - val_accuracy: 0.8561\n",
      "Epoch 96/100\n",
      "536/536 [==============================] - 2s 3ms/step - loss: 0.3371 - accuracy: 0.8578 - val_loss: 0.3590 - val_accuracy: 0.8554\n",
      "Epoch 97/100\n",
      "536/536 [==============================] - 2s 3ms/step - loss: 0.3149 - accuracy: 0.8680 - val_loss: 0.3587 - val_accuracy: 0.8538\n",
      "Epoch 98/100\n",
      "536/536 [==============================] - 2s 3ms/step - loss: 0.3294 - accuracy: 0.8633 - val_loss: 0.3610 - val_accuracy: 0.8519\n",
      "Epoch 99/100\n",
      "536/536 [==============================] - 2s 3ms/step - loss: 0.3191 - accuracy: 0.8656 - val_loss: 0.3569 - val_accuracy: 0.8550\n",
      "Epoch 100/100\n",
      "536/536 [==============================] - 2s 3ms/step - loss: 0.3245 - accuracy: 0.8676 - val_loss: 0.3592 - val_accuracy: 0.8565\n"
     ]
    }
   ],
   "source": [
    "# Fitting the ANN to the Training set\n",
    "\n",
    "model_history = classifier.fit(X_train, y_train, batch_size=10, validation_split=0.33, epochs=100)"
   ]
  },
  {
   "cell_type": "code",
   "execution_count": 23,
   "metadata": {
    "colab": {
     "base_uri": "https://localhost:8080/",
     "height": 34
    },
    "colab_type": "code",
    "id": "CrSgI4GpWXFp",
    "outputId": "82ef5604-839f-49e1-cfd2-6bfd13d71410"
   },
   "outputs": [
    {
     "data": {
      "text/plain": [
       "dict_keys(['loss', 'accuracy', 'val_loss', 'val_accuracy'])"
      ]
     },
     "execution_count": 23,
     "metadata": {},
     "output_type": "execute_result"
    }
   ],
   "source": [
    "# List Historical Values\n",
    "\n",
    "model_history.history.keys()"
   ]
  },
  {
   "cell_type": "code",
   "execution_count": 24,
   "metadata": {
    "colab": {
     "base_uri": "https://localhost:8080/",
     "height": 513
    },
    "colab_type": "code",
    "id": "6rtH_7O4dLl0",
    "outputId": "53823b5a-64f4-43f4-9e48-914823449005"
   },
   "outputs": [
    {
     "data": {
      "image/png": "[encoded data removed]",
      "text/plain": [
       "<Figure size 576x576 with 1 Axes>"
      ]
     },
     "metadata": {
      "needs_background": "light"
     },
     "output_type": "display_data"
    }
   ],
   "source": [
    "# Summarize for Accuracy\n",
    "\n",
    "plt.figure(figsize=(8,8))\n",
    "plt.plot(model_history.history['accuracy'])\n",
    "plt.plot(model_history.history['val_accuracy'])\n",
    "plt.title('Model Accuracy')\n",
    "plt.ylabel('Accuracy')\n",
    "plt.xlabel('Epoch')\n",
    "plt.legend(['Train', 'Test'], loc='lower right')\n",
    "plt.show()"
   ]
  },
  {
   "cell_type": "code",
   "execution_count": 25,
   "metadata": {
    "colab": {
     "base_uri": "https://localhost:8080/",
     "height": 513
    },
    "colab_type": "code",
    "id": "725kLNbvdk2h",
    "outputId": "b7152b1b-a7b2-407f-80e4-f4a5b279e818"
   },
   "outputs": [
    {
     "data": {
      "image/png": "[encoded data removed]",
      "text/plain": [
       "<Figure size 576x576 with 1 Axes>"
      ]
     },
     "metadata": {
      "needs_background": "light"
     },
     "output_type": "display_data"
    }
   ],
   "source": [
    "# Summarize for Loss\n",
    "\n",
    "plt.figure(figsize=(8,8))\n",
    "plt.plot(model_history.history['loss'])\n",
    "plt.plot(model_history.history['val_loss'])\n",
    "plt.title('Model Loss')\n",
    "plt.ylabel('Loss')\n",
    "plt.xlabel('Epoch')\n",
    "plt.legend(['Train', 'Test'], loc='upper right')\n",
    "plt.show()"
   ]
  },
  {
   "cell_type": "markdown",
   "metadata": {
    "colab_type": "text",
    "id": "hteoIjo-ebvS"
   },
   "source": [
    "<br><br>\n",
    "\n",
    "## Model Evaluation"
   ]
  },
  {
   "cell_type": "code",
   "execution_count": 26,
   "metadata": {
    "colab": {},
    "colab_type": "code",
    "id": "K1P-3Hy3efDi"
   },
   "outputs": [],
   "source": [
    "# Predict Test Set Results\n",
    "\n",
    "y_pred = classifier.predict(X_test)"
   ]
  },
  {
   "cell_type": "code",
   "execution_count": 27,
   "metadata": {
    "colab": {
     "base_uri": "https://localhost:8080/",
     "height": 141
    },
    "colab_type": "code",
    "id": "n3SMzTNYeK_f",
    "outputId": "d8c31d53-22c7-4477-b79d-84591d0aa674"
   },
   "outputs": [
    {
     "data": {
      "text/plain": [
       "array([[0.31609908],\n",
       "       [0.36842299],\n",
       "       [0.15531972],\n",
       "       ...,\n",
       "       [0.21486878],\n",
       "       [0.09119907],\n",
       "       [0.18156832]], dtype=float32)"
      ]
     },
     "execution_count": 27,
     "metadata": {},
     "output_type": "execute_result"
    }
   ],
   "source": [
    "y_pred"
   ]
  },
  {
   "cell_type": "code",
   "execution_count": 28,
   "metadata": {
    "colab": {
     "base_uri": "https://localhost:8080/",
     "height": 141
    },
    "colab_type": "code",
    "id": "5xdSt7h-ez2a",
    "outputId": "1759de9b-a20b-4278-f61e-a9e8f48eb154"
   },
   "outputs": [
    {
     "data": {
      "text/plain": [
       "array([[False],\n",
       "       [False],\n",
       "       [False],\n",
       "       ...,\n",
       "       [False],\n",
       "       [False],\n",
       "       [False]])"
      ]
     },
     "execution_count": 28,
     "metadata": {},
     "output_type": "execute_result"
    }
   ],
   "source": [
    "y_pred = (y_pred > 0.5)\n",
    "y_pred"
   ]
  },
  {
   "cell_type": "code",
   "execution_count": 29,
   "metadata": {
    "colab": {
     "base_uri": "https://localhost:8080/",
     "height": 52
    },
    "colab_type": "code",
    "id": "jF6bqmNpe52h",
    "outputId": "774da455-7dd6-4a45-82b6-f3c101c08541"
   },
   "outputs": [
    {
     "data": {
      "text/plain": [
       "array([[1490,  105],\n",
       "       [ 176,  229]], dtype=int64)"
      ]
     },
     "execution_count": 29,
     "metadata": {},
     "output_type": "execute_result"
    }
   ],
   "source": [
    "# Create Confusion Matrix\n",
    "\n",
    "from sklearn.metrics import confusion_matrix\n",
    "cm = confusion_matrix(y_test, y_pred)\n",
    "cm"
   ]
  },
  {
   "cell_type": "code",
   "execution_count": 30,
   "metadata": {
    "colab": {
     "base_uri": "https://localhost:8080/",
     "height": 404
    },
    "colab_type": "code",
    "id": "QtXiWRklgBfc",
    "outputId": "617e7fc6-b8dc-4f50-dfc9-d602be160a1c"
   },
   "outputs": [
    {
     "data": {
      "image/png": "[encoded data removed]",
      "text/plain": [
       "<Figure size 720x576 with 2 Axes>"
      ]
     },
     "metadata": {
      "needs_background": "light"
     },
     "output_type": "display_data"
    }
   ],
   "source": [
    "# Plot Confusion Matrix\n",
    "\n",
    "plt.figure(figsize=(10,8))\n",
    "sns.heatmap(cm, cmap='CMRmap', annot=True, xticklabels=['Did not Exit', 'Exit'], yticklabels=['Did not Exit', 'Exit'])\n",
    "plt.xlabel('Predicted Values')\n",
    "plt.ylabel('Actual Values')\n",
    "plt.title('Confusion Matrix for ANN model')\n",
    "plt.show()"
   ]
  },
  {
   "cell_type": "code",
   "execution_count": 31,
   "metadata": {
    "colab": {
     "base_uri": "https://localhost:8080/",
     "height": 34
    },
    "colab_type": "code",
    "id": "GBP1RzKAhJKc",
    "outputId": "a2f26e3e-c15b-4428-9e1a-ea874829d3e4"
   },
   "outputs": [
    {
     "name": "stdout",
     "output_type": "stream",
     "text": [
      "Accuracy for ANN model is: 85.95%\n"
     ]
    }
   ],
   "source": [
    "# Calculate Accuracy\n",
    "\n",
    "from sklearn.metrics import accuracy_score\n",
    "score = accuracy_score(y_pred,y_test)\n",
    "print('Accuracy for ANN model is: {}%'.format(score*100))"
   ]
  },
  {
   "cell_type": "markdown",
   "metadata": {
    "colab_type": "text",
    "id": "0sL3FX4rh5SK"
   },
   "source": [
    "<br><br>\n",
    "\n",
    "## Model Summary and Predictions"
   ]
  },
  {
   "cell_type": "code",
   "execution_count": 32,
   "metadata": {
    "colab": {},
    "colab_type": "code",
    "id": "vFxDPYQPh8nW"
   },
   "outputs": [],
   "source": [
    "def predict_exit(sample_value):\n",
    "  \n",
    "  # Convert list to numpy array\n",
    "  sample_value = np.array(sample_value)\n",
    "\n",
    "  # Reshape as sample_value has only 1 record\n",
    "  sample_value = sample_value.reshape(1, -1)\n",
    "\n",
    "  # Feature Scaling\n",
    "  sample_value = sc.transform(sample_value)\n",
    "\n",
    "  return classifier.predict(sample_value)"
   ]
  },
  {
   "cell_type": "code",
   "execution_count": 33,
   "metadata": {
    "colab": {
     "base_uri": "https://localhost:8080/",
     "height": 34
    },
    "colab_type": "code",
    "id": "H60e-K6Vip_h",
    "outputId": "0de95cb1-1b90-45c6-eddc-2dd00d749c3c"
   },
   "outputs": [
    {
     "name": "stdout",
     "output_type": "stream",
     "text": [
      "Prediction: Low chance of customer exit!\n"
     ]
    }
   ],
   "source": [
    "# Predictions\n",
    "# Value order 'CreditScore','Age','Tenure','Balance','NumOfProducts','HasCrCard','IsActiveMember','EstimatedSalary','Germany','Spain','Male'.\n",
    "\n",
    "sample_value = [738, 62, 10, 83008.31, 1, 1, 1, 42766.03, 1, 0, 1]\n",
    "if predict_exit(sample_value)>0.5:\n",
    "  print('Prediction: High chance of customer exit!')\n",
    "else:\n",
    "  print('Prediction: Low chance of customer exit!')"
   ]
  },
  {
   "cell_type": "code",
   "execution_count": 35,
   "metadata": {
    "colab": {
     "base_uri": "https://localhost:8080/",
     "height": 34
    },
    "colab_type": "code",
    "id": "n3zdnwfWkT0q",
    "outputId": "a1e1f00e-4a73-4d2b-a6fb-178d89b8fa3a"
   },
   "outputs": [
    {
     "name": "stdout",
     "output_type": "stream",
     "text": [
      "Prediction: High chance of customer exit!\n"
     ]
    }
   ],
   "source": [
    "# Predictions\n",
    "# Value order 'CreditScore','Age','Tenure','Balance','NumOfProducts','HasCrCard','IsActiveMember','EstimatedSalary','Germany','Spain','Male'.\n",
    "\n",
    "sample_value = [805, 45, 9, 116585.97, 1, 1, 0, 189428.75, 1, 0, 0]\n",
    "if predict_exit(sample_value)>0.5:\n",
    "  print('Prediction: High chance of customer exit!')\n",
    "else:\n",
    "  print('Prediction: Low chance of customer exit!')"
   ]
  },
  {
   "cell_type": "markdown",
   "metadata": {},
   "source": [
    "___"
   ]
  }
 ],
 "metadata": {
  "accelerator": "GPU",
  "colab": {
   "collapsed_sections": [],
   "name": "Bank Customer's Churn Classifier.ipynb",
   "provenance": []
  },
  "kernelspec": {
   "display_name": "Python 3",
   "language": "python",
   "name": "python3"
  },
  "language_info": {
   "codemirror_mode": {
    "name": "ipython",
    "version": 3
   },
   "file_extension": ".py",
   "mimetype": "text/x-python",
   "name": "python",
   "nbconvert_exporter": "python",
   "pygments_lexer": "ipython3",
   "version": "3.8.6"
  }
 },
 "nbformat": 4,
 "nbformat_minor": 1
}
